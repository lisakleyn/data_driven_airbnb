{
 "cells": [
  {
   "cell_type": "markdown",
   "id": "f5dff526",
   "metadata": {},
   "source": [
    "# Variables & Data Types"
   ]
  },
  {
   "cell_type": "markdown",
   "id": "bd61d97f",
   "metadata": {},
   "source": [
    "## Types of Vars: Strings, Numbers, True/False"
   ]
  },
  {
   "cell_type": "markdown",
   "id": "78e5ae5c",
   "metadata": {},
   "source": [
    "### Strings = plain text"
   ]
  },
  {
   "cell_type": "code",
   "execution_count": 13,
   "id": "f7c59c9f",
   "metadata": {
    "scrolled": false
   },
   "outputs": [
    {
     "name": "stdout",
     "output_type": "stream",
     "text": [
      "Giraffe Academy\n",
      "Giraffe\n",
      "Academy\n",
      "Giraffe\"Academy\n",
      "Giraffe\\Academy\n"
     ]
    }
   ],
   "source": [
    "print (\"Giraffe Academy\") #print string\n",
    "print(\"Giraffe\\nAcademy\")#insert a new line into string\n",
    "print(\"Giraffe\\\"Academy\")#print out a quotation mark \n",
    "print(\"Giraffe\\Academy\")"
   ]
  },
  {
   "cell_type": "code",
   "execution_count": 14,
   "id": "c9ce1d37",
   "metadata": {},
   "outputs": [
    {
     "name": "stdout",
     "output_type": "stream",
     "text": [
      "Giraffe Academy\n"
     ]
    }
   ],
   "source": [
    "phrase = \"Giraffe Academy\" #creating a string Variable\n",
    "print(phrase) "
   ]
  },
  {
   "cell_type": "code",
   "execution_count": 15,
   "id": "1b9c553c",
   "metadata": {},
   "outputs": [
    {
     "name": "stdout",
     "output_type": "stream",
     "text": [
      "giraffe academy\n",
      "GIRAFFE ACADEMY\n",
      "GIRAFFE ACADEMY\n"
     ]
    }
   ],
   "source": [
    "print(phrase.lower())#use function to make lower case\n",
    "print(phrase.upper())#use function to make upper case\n",
    "print(phrase.upper())#check if entirely upper/lower"
   ]
  }
 ],
 "metadata": {
  "kernelspec": {
   "display_name": "Python 3",
   "language": "python",
   "name": "python3"
  },
  "language_info": {
   "codemirror_mode": {
    "name": "ipython",
    "version": 3
   },
   "file_extension": ".py",
   "mimetype": "text/x-python",
   "name": "python",
   "nbconvert_exporter": "python",
   "pygments_lexer": "ipython3",
   "version": "3.8.8"
  }
 },
 "nbformat": 4,
 "nbformat_minor": 5
}
